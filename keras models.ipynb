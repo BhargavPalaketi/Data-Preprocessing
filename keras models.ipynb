{
 "cells": [
  {
   "cell_type": "code",
   "execution_count": 1,
   "metadata": {},
   "outputs": [
    {
     "name": "stderr",
     "output_type": "stream",
     "text": [
      "Using TensorFlow backend.\n"
     ]
    }
   ],
   "source": [
    "from keras.datasets import mnist\n",
    "from keras.layers import Dense,Dropout\n",
    "from keras.models import Sequential\n",
    "from keras.utils import to_categorical"
   ]
  },
  {
   "cell_type": "code",
   "execution_count": 2,
   "metadata": {},
   "outputs": [],
   "source": [
    "batch_size =128\n",
    "num_classes =10\n",
    "epochs =20"
   ]
  },
  {
   "cell_type": "code",
   "execution_count": 3,
   "metadata": {},
   "outputs": [
    {
     "data": {
      "text/plain": [
       "(60000, 28, 28)"
      ]
     },
     "execution_count": 3,
     "metadata": {},
     "output_type": "execute_result"
    }
   ],
   "source": [
    "(x_train,y_train),(x_test,y_test)=mnist.load_data()\n",
    "x_train.shape"
   ]
  },
  {
   "cell_type": "code",
   "execution_count": 4,
   "metadata": {},
   "outputs": [],
   "source": [
    "# data preprocessing"
   ]
  },
  {
   "cell_type": "code",
   "execution_count": 5,
   "metadata": {},
   "outputs": [
    {
     "data": {
      "text/plain": [
       "(60000, 10)"
      ]
     },
     "execution_count": 5,
     "metadata": {},
     "output_type": "execute_result"
    }
   ],
   "source": [
    "x_train =x_train.reshape(60000,784)\n",
    "x_test =x_test.reshape(10000, 784)\n",
    "x_train =x_train.astype('float32')\n",
    "x_test =x_test.astype('float32')\n",
    "x_train =x_train/255\n",
    "x_test =x_test/255\n",
    "\n",
    "\n",
    "y_train = to_categorical(y_train,num_classes)\n",
    "y_test =to_categorical(y_test,num_classes)\n",
    "y_train.shape\n"
   ]
  },
  {
   "cell_type": "code",
   "execution_count": 6,
   "metadata": {},
   "outputs": [
    {
     "name": "stdout",
     "output_type": "stream",
     "text": [
      "WARNING:tensorflow:From c:\\users\\dell\\appdata\\local\\programs\\python\\python36\\lib\\site-packages\\tensorflow\\python\\framework\\op_def_library.py:263: colocate_with (from tensorflow.python.framework.ops) is deprecated and will be removed in a future version.\n",
      "Instructions for updating:\n",
      "Colocations handled automatically by placer.\n",
      "WARNING:tensorflow:From c:\\users\\dell\\appdata\\local\\programs\\python\\python36\\lib\\site-packages\\keras\\backend\\tensorflow_backend.py:3445: calling dropout (from tensorflow.python.ops.nn_ops) with keep_prob is deprecated and will be removed in a future version.\n",
      "Instructions for updating:\n",
      "Please use `rate` instead of `keep_prob`. Rate should be set to `rate = 1 - keep_prob`.\n",
      "_________________________________________________________________\n",
      "Layer (type)                 Output Shape              Param #   \n",
      "=================================================================\n",
      "dense_1 (Dense)              (None, 512)               401920    \n",
      "_________________________________________________________________\n",
      "dropout_1 (Dropout)          (None, 512)               0         \n",
      "_________________________________________________________________\n",
      "dense_2 (Dense)              (None, 512)               262656    \n",
      "_________________________________________________________________\n",
      "dropout_2 (Dropout)          (None, 512)               0         \n",
      "_________________________________________________________________\n",
      "dense_3 (Dense)              (None, 10)                5130      \n",
      "=================================================================\n",
      "Total params: 669,706\n",
      "Trainable params: 669,706\n",
      "Non-trainable params: 0\n",
      "_________________________________________________________________\n"
     ]
    }
   ],
   "source": [
    "model =Sequential()\n",
    "\n",
    "# first layer\n",
    "model.add(Dense(512,activation='relu',input_shape=(784,)))\n",
    "model.add(Dropout(0.2))\n",
    "# second layer\n",
    "model.add(Dense(512,activation='relu'))\n",
    "model.add(Dropout(0.2))\n",
    "# final layer\n",
    "model.add(Dense(num_classes,activation='softmax'))\n",
    "\n",
    "model.summary()"
   ]
  },
  {
   "cell_type": "code",
   "execution_count": 7,
   "metadata": {},
   "outputs": [],
   "source": [
    "model.compile(loss='categorical_crossentropy',optimizer='sgd',metrics=['accuracy'])"
   ]
  },
  {
   "cell_type": "code",
   "execution_count": 8,
   "metadata": {
    "scrolled": true
   },
   "outputs": [
    {
     "name": "stdout",
     "output_type": "stream",
     "text": [
      "WARNING:tensorflow:From c:\\users\\dell\\appdata\\local\\programs\\python\\python36\\lib\\site-packages\\tensorflow\\python\\ops\\math_ops.py:3066: to_int32 (from tensorflow.python.ops.math_ops) is deprecated and will be removed in a future version.\n",
      "Instructions for updating:\n",
      "Use tf.cast instead.\n",
      "Train on 60000 samples, validate on 10000 samples\n",
      "Epoch 1/20\n",
      "60000/60000 [==============================] - 15s 247us/step - loss: 1.2516 - acc: 0.6738 - val_loss: 0.5533 - val_acc: 0.8684\n",
      "Epoch 2/20\n",
      "60000/60000 [==============================] - 13s 219us/step - loss: 0.5375 - acc: 0.8498 - val_loss: 0.3799 - val_acc: 0.8972\n",
      "Epoch 3/20\n",
      "60000/60000 [==============================] - 13s 219us/step - loss: 0.4265 - acc: 0.8767 - val_loss: 0.3261 - val_acc: 0.9096\n",
      "Epoch 4/20\n",
      "60000/60000 [==============================] - 14s 230us/step - loss: 0.3783 - acc: 0.8901 - val_loss: 0.2954 - val_acc: 0.9170\n",
      "Epoch 5/20\n",
      "60000/60000 [==============================] - 14s 230us/step - loss: 0.3434 - acc: 0.9014 - val_loss: 0.2739 - val_acc: 0.9226\n",
      "Epoch 6/20\n",
      "60000/60000 [==============================] - 14s 234us/step - loss: 0.3182 - acc: 0.9078 - val_loss: 0.2562 - val_acc: 0.9275\n",
      "Epoch 7/20\n",
      "60000/60000 [==============================] - 14s 233us/step - loss: 0.2984 - acc: 0.9145 - val_loss: 0.2416 - val_acc: 0.9322\n",
      "Epoch 8/20\n",
      "60000/60000 [==============================] - 13s 222us/step - loss: 0.2811 - acc: 0.9189 - val_loss: 0.2298 - val_acc: 0.9347\n",
      "Epoch 9/20\n",
      "60000/60000 [==============================] - 14s 235us/step - loss: 0.2660 - acc: 0.9225 - val_loss: 0.2190 - val_acc: 0.9378\n",
      "Epoch 10/20\n",
      "60000/60000 [==============================] - 13s 225us/step - loss: 0.2536 - acc: 0.9261 - val_loss: 0.2084 - val_acc: 0.9408\n",
      "Epoch 11/20\n",
      "60000/60000 [==============================] - 15s 255us/step - loss: 0.2437 - acc: 0.9301 - val_loss: 0.1982 - val_acc: 0.9428\n",
      "Epoch 12/20\n",
      "60000/60000 [==============================] - 13s 224us/step - loss: 0.2313 - acc: 0.9335 - val_loss: 0.1916 - val_acc: 0.9444\n",
      "Epoch 13/20\n",
      "60000/60000 [==============================] - 13s 215us/step - loss: 0.2219 - acc: 0.9363 - val_loss: 0.1833 - val_acc: 0.9474\n",
      "Epoch 14/20\n",
      "60000/60000 [==============================] - 14s 229us/step - loss: 0.2132 - acc: 0.9384 - val_loss: 0.1763 - val_acc: 0.9483\n",
      "Epoch 15/20\n",
      "60000/60000 [==============================] - 14s 230us/step - loss: 0.2054 - acc: 0.9409 - val_loss: 0.1701 - val_acc: 0.9497\n",
      "Epoch 16/20\n",
      "60000/60000 [==============================] - 14s 231us/step - loss: 0.1994 - acc: 0.9418 - val_loss: 0.1635 - val_acc: 0.9522\n",
      "Epoch 17/20\n",
      "60000/60000 [==============================] - 14s 240us/step - loss: 0.1906 - acc: 0.9454 - val_loss: 0.1589 - val_acc: 0.9531\n",
      "Epoch 18/20\n",
      "60000/60000 [==============================] - 15s 256us/step - loss: 0.1851 - acc: 0.9466 - val_loss: 0.1539 - val_acc: 0.9551\n",
      "Epoch 19/20\n",
      "60000/60000 [==============================] - 16s 265us/step - loss: 0.1791 - acc: 0.9478 - val_loss: 0.1487 - val_acc: 0.9562\n",
      "Epoch 20/20\n",
      "60000/60000 [==============================] - 15s 250us/step - loss: 0.1726 - acc: 0.9499 - val_loss: 0.1452 - val_acc: 0.9573\n",
      "Test loss: 0.1451879672177136\n",
      "Test accuracy: 0.9573\n"
     ]
    }
   ],
   "source": [
    "from keras import backend as K\n",
    "\n",
    "K.set_session(K.tf.Session(config=K.tf.ConfigProto(intra_op_parallelism_threads=1, inter_op_parallelism_threads=1)))\n",
    "\n",
    "history = model.fit(x_train, y_train,\n",
    "                    batch_size=batch_size,\n",
    "                    epochs=epochs,\n",
    "                    verbose=1,\n",
    "                    validation_data=(x_test, y_test))\n",
    "score = model.evaluate(x_test, y_test, verbose=0)\n",
    "print('Test loss:', score[0])\n",
    "print('Test accuracy:', score[1])"
   ]
  },
  {
   "cell_type": "code",
   "execution_count": null,
   "metadata": {},
   "outputs": [],
   "source": []
  }
 ],
 "metadata": {
  "kernelspec": {
   "display_name": "Python 3",
   "language": "python",
   "name": "python3"
  },
  "language_info": {
   "codemirror_mode": {
    "name": "ipython",
    "version": 3
   },
   "file_extension": ".py",
   "mimetype": "text/x-python",
   "name": "python",
   "nbconvert_exporter": "python",
   "pygments_lexer": "ipython3",
   "version": "3.6.5"
  }
 },
 "nbformat": 4,
 "nbformat_minor": 2
}
